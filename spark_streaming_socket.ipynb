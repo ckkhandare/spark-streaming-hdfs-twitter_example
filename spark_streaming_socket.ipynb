{
  "nbformat": 4,
  "nbformat_minor": 0,
  "metadata": {
    "kernelspec": {
      "display_name": "Python 3",
      "language": "python",
      "name": "python3"
    },
    "language_info": {
      "codemirror_mode": {
        "name": "ipython",
        "version": 3
      },
      "file_extension": ".py",
      "mimetype": "text/x-python",
      "name": "python",
      "nbconvert_exporter": "python",
      "pygments_lexer": "ipython3",
      "version": "3.8.10"
    },
    "colab": {
      "name": "spark_streaming_socket.ipynb",
      "provenance": []
    }
  },
  "cells": [
    {
      "cell_type": "code",
      "metadata": {
        "id": "piueMgeexeL6"
      },
      "source": [
        "from pyspark import SparkContext, SparkConf\n",
        "from pyspark.sql import SparkSession\n",
        "# master = 'local'\n",
        "# appName = 'PySpark_Initialise'\n",
        "\n",
        "# config = SparkConf().setAppName(appName).setMaster(master)\n",
        "# sc = SparkContext(conf=config)\n",
        "\n",
        "# if sc:\n",
        "#     print(sc.appName)\n",
        "# else:\n",
        "#     print('Could not initialise pyspark session')"
      ],
      "execution_count": null,
      "outputs": []
    },
    {
      "cell_type": "markdown",
      "metadata": {
        "id": "153YQASjyCht"
      },
      "source": [
        "For me the SparkContext was already created, you might need to create a SparkContext.\n",
        "\n",
        "Just uncomment the above code\n",
        "\n",
        "\n"
      ]
    },
    {
      "cell_type": "code",
      "metadata": {
        "id": "XWCSbJ8FxeL9"
      },
      "source": [
        "print('Read data over a socket ')\n",
        "ss = SparkSession(sc)\n",
        "if ss:\n",
        "    print(sc.appName)\n",
        "else:\n",
        "    print('Could not initialise pyspark session')\n",
        "\n"
      ],
      "execution_count": null,
      "outputs": []
    },
    {
      "cell_type": "markdown",
      "metadata": {
        "id": "MeTkhHC1yt1P"
      },
      "source": [
        "create a socket to read the data"
      ]
    },
    {
      "cell_type": "code",
      "metadata": {
        "id": "-bqrKa1_yi5U"
      },
      "source": [
        "Data = ss.readStream.format('socket') \\\n",
        "    .option('host', 'localhost') \\\n",
        "    .option('port', 9077) \\\n",
        "    .load()\n"
      ],
      "execution_count": null,
      "outputs": []
    },
    {
      "cell_type": "markdown",
      "metadata": {
        "id": "El2JZiIdyuR1"
      },
      "source": [
        "saving the sata in csv fromat in hdfs \n",
        "\n",
        "you will also need to create a checkpointLocation"
      ]
    },
    {
      "cell_type": "code",
      "metadata": {
        "id": "nAE8725RxeL_"
      },
      "source": [
        "query = Data.writeStream \\\n",
        "    .outputMode('append').format('csv').option('path','hdfs://localhost:9000/user/ckkhandare/miniproject/ingestion/stage/twitter1/data').option('checkpointLocation', 'hdfs://localhost:9000/user/ckkhandare/miniproject/ingestion/stage/twitter1/ckp').start()\n",
        "query.awaitTermination()"
      ],
      "execution_count": null,
      "outputs": []
    }
  ]
}